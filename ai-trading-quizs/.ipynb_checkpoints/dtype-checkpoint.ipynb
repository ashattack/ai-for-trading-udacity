{
 "cells": [
  {
   "cell_type": "markdown",
   "metadata": {},
   "source": [
    "# Dtype\n",
    "## Data Type Object\n",
    "Let's look into how you might generate positions from signals. To do that, we first need to know about `dtype` or data type objects in Numpy.\n",
    "\n",
    "A [data type object](https://docs.scipy.org/doc/numpy-1.13.0/reference/arrays.dtypes.html) is a class that represents the data. It's similar to a [data type](data type), but contains [more information](https://docs.scipy.org/doc/numpy-1.13.0/reference/arrays.dtypes.html) about the data. Let's see an example of a data type object in Numpy using the array `array`."
   ]
  },
  {
   "cell_type": "code",
   "execution_count": 2,
   "metadata": {},
   "outputs": [
    {
     "name": "stdout",
     "output_type": "stream",
     "text": [
      "[0 1 2 3 4 5 6 7 8 9]\n",
      "<class 'numpy.ndarray'>\n",
      "int64\n"
     ]
    }
   ],
   "source": [
    "import numpy as np\n",
    "\n",
    "array = np.arange(10)\n",
    "\n",
    "print(array)\n",
    "print(type(array))\n",
    "print(array.dtype)"
   ]
  },
  {
   "cell_type": "markdown",
   "metadata": {},
   "source": [
    "From this, we see `array` is a `numpy.ndarray` with the data `[0 1 2 3 4 5 6 7 8 9]` represented as `int64` (64-bit integer).\n",
    "\n",
    "Let's see what happens when we divide the data by 2 to generate not integer data."
   ]
  },
  {
   "cell_type": "code",
   "execution_count": 3,
   "metadata": {},
   "outputs": [
    {
     "name": "stdout",
     "output_type": "stream",
     "text": [
      "[ 0.   0.5  1.   1.5  2.   2.5  3.   3.5  4.   4.5]\n",
      "<class 'numpy.ndarray'>\n",
      "float64\n"
     ]
    }
   ],
   "source": [
    "float_arr = array / 2\n",
    "\n",
    "print(float_arr)\n",
    "print(type(float_arr))\n",
    "print(float_arr.dtype)"
   ]
  },
  {
   "cell_type": "markdown",
   "metadata": {},
   "source": [
    "The array returned has the values `[ 0.   0.5  1.   1.5  2.   2.5  3.   3.5  4.   4.5]`, which is what you would expect for divinding by 2. However, since this data can't be represeted by integers, the array is now represented as `float64` (64-bit float).\n",
    "\n",
    "How would we convert this back to `int64`? We'll use the [`ndarray.astype`](https://docs.scipy.org/doc/numpy/reference/generated/numpy.ndarray.astype.html) function to cast it from it's current type to the type of `int64` (`np.int64`)."
   ]
  },
  {
   "cell_type": "code",
   "execution_count": 4,
   "metadata": {},
   "outputs": [
    {
     "name": "stdout",
     "output_type": "stream",
     "text": [
      "[0 0 1 1 2 2 3 3 4 4]\n",
      "<class 'numpy.ndarray'>\n",
      "int64\n"
     ]
    }
   ],
   "source": [
    "int_arr = float_arr.astype(np.int64)\n",
    "\n",
    "print(int_arr)\n",
    "print(type(int_arr))\n",
    "print(int_arr.dtype)"
   ]
  },
  {
   "cell_type": "markdown",
   "metadata": {},
   "source": [
    "This casts the data to `int64`, but all also changes the data. Since fractions can't be represented as integers, the decimal place is dropped.\n",
    "\n",
    "## Signals to Positions\n",
    "Now that you've seen how the a [data type object](https://docs.scipy.org/doc/numpy-1.13.0/reference/arrays.dtypes.html) is used in Numpy, let's see how to use it to generate positions from signals. Let's use `prices` array to represent the prices in dollars over time for a single stock."
   ]
  },
  {
   "cell_type": "code",
   "execution_count": 5,
   "metadata": {},
   "outputs": [
    {
     "name": "stdout",
     "output_type": "stream",
     "text": [
      "[ 1  3 -2  9  5  7  2]\n",
      "<class 'numpy.ndarray'>\n",
      "   0\n",
      "0  1\n",
      "1  3\n",
      "2 -2\n",
      "3  9\n",
      "4  5\n",
      "5  7\n",
      "6  2\n",
      "<class 'pandas.core.frame.DataFrame'>\n"
     ]
    }
   ],
   "source": [
    "import pandas as pd\n",
    "\n",
    "prices = np.array([1, 3, -2, 9, 5, 7, 2])\n",
    "df_prices = pd.DataFrame([1, 3, -2, 9, 5, 7, 2])\n",
    "\n",
    "print(prices)\n",
    "print(type(prices))\n",
    "print(df_prices)\n",
    "print(type(df_prices))"
   ]
  },
  {
   "cell_type": "markdown",
   "metadata": {},
   "source": [
    "For the positions, let's say we want to buy one share of stock when the price is above 2 dollars and the buy 3 more shares when it's above 4 dollars. We'll first need to generate the signal for these two positions."
   ]
  },
  {
   "cell_type": "code",
   "execution_count": 9,
   "metadata": {},
   "outputs": [
    {
     "name": "stdout",
     "output_type": "stream",
     "text": [
      "[False  True False  True  True  True False]\n",
      "[False False False  True  True  True False]\n",
      "<class 'numpy.ndarray'>\n"
     ]
    }
   ],
   "source": [
    "signal_one = prices > 2\n",
    "signal_three = prices > 4\n",
    "\n",
    "print(signal_one)\n",
    "print(signal_three)\n",
    "print(type(signal_three))"
   ]
  },
  {
   "cell_type": "code",
   "execution_count": 10,
   "metadata": {},
   "outputs": [
    {
     "name": "stdout",
     "output_type": "stream",
     "text": [
      "       0\n",
      "0  False\n",
      "1   True\n",
      "2  False\n",
      "3   True\n",
      "4   True\n",
      "5   True\n",
      "6  False\n",
      "       0\n",
      "0  False\n",
      "1  False\n",
      "2  False\n",
      "3   True\n",
      "4   True\n",
      "5   True\n",
      "6  False\n",
      "<class 'pandas.core.frame.DataFrame'>\n"
     ]
    }
   ],
   "source": [
    "signal_one_df = df_prices > 2\n",
    "signal_three_df = df_prices > 4\n",
    "\n",
    "print(signal_one_df)\n",
    "print(signal_three_df)\n",
    "print(type(signal_three_df))"
   ]
  },
  {
   "cell_type": "code",
   "execution_count": 12,
   "metadata": {},
   "outputs": [
    {
     "name": "stdout",
     "output_type": "stream",
     "text": [
      "[[False]\n",
      " [ True]\n",
      " [False]\n",
      " [ True]\n",
      " [ True]\n",
      " [ True]\n",
      " [False]]\n",
      "<class 'numpy.ndarray'>\n"
     ]
    }
   ],
   "source": [
    "print(signal_one_df.values)\n",
    "print(type(signal_one_df.values))"
   ]
  },
  {
   "cell_type": "markdown",
   "metadata": {},
   "source": [
    "This gives us the points in time for the signals above 2 dollars and above 4 dollars. To turn this into positions, we need to multiply each array by the respective amount to invest. We first need to turn each signal into an integer using the [`ndarray.astype`](https://docs.scipy.org/doc/numpy/reference/generated/numpy.ndarray.astype.html) function."
   ]
  },
  {
   "cell_type": "code",
   "execution_count": 13,
   "metadata": {},
   "outputs": [
    {
     "name": "stdout",
     "output_type": "stream",
     "text": [
      "[0 1 0 1 1 1 0]\n",
      "[0 0 0 1 1 1 0]\n"
     ]
    }
   ],
   "source": [
    "signal_one = signal_one.astype(np.int)\n",
    "signal_three = signal_three.astype(np.int)\n",
    "\n",
    "print(signal_one)\n",
    "print(signal_three)"
   ]
  },
  {
   "cell_type": "markdown",
   "metadata": {},
   "source": [
    "Now we multiply each array by the respective amount to invest. "
   ]
  },
  {
   "cell_type": "code",
   "execution_count": 14,
   "metadata": {},
   "outputs": [
    {
     "name": "stdout",
     "output_type": "stream",
     "text": [
      "[0 1 0 1 1 1 0]\n",
      "[0 0 0 3 3 3 0]\n"
     ]
    }
   ],
   "source": [
    "pos_one = 1 * signal_one\n",
    "pos_three = 3 * signal_three\n",
    "\n",
    "print(pos_one)\n",
    "print(pos_three)"
   ]
  },
  {
   "cell_type": "markdown",
   "metadata": {},
   "source": [
    "If we add them together, we have the final position of the stock over time."
   ]
  },
  {
   "cell_type": "code",
   "execution_count": 15,
   "metadata": {},
   "outputs": [
    {
     "name": "stdout",
     "output_type": "stream",
     "text": [
      "[0 1 0 4 4 4 0]\n"
     ]
    }
   ],
   "source": [
    "long_pos = pos_one + pos_three\n",
    "\n",
    "print(long_pos)"
   ]
  },
  {
   "cell_type": "markdown",
   "metadata": {},
   "source": [
    "## Quiz\n",
    "Using this information, implement `generate_positions` using Pandas's [`df.astype`](https://pandas.pydata.org/pandas-docs/version/0.21/generated/pandas.DataFrame.astype.html) function to convert `prices` to final positions using the following signals:\n",
    "- Long 30 share of stock when the price is above 50 dollars\n",
    "- Short 10 shares of stock when it's below 20 dollars"
   ]
  },
  {
   "cell_type": "code",
   "execution_count": 30,
   "metadata": {},
   "outputs": [
    {
     "name": "stdout",
     "output_type": "stream",
     "text": [
      "Set signals\n",
      "Signal_long\n",
      "              BAT    IBY    NRV    KIT    NNZ\n",
      "2003-07-05   True  False   True   True   True\n",
      "2003-07-06  False   True  False  False  False\n",
      "2003-07-07   True  False  False  False  False\n",
      "2003-07-08  False  False  False  False  False\n",
      "2003-07-09  False  False   True  False  False\n",
      "2003-07-10   True  False  False   True   True\n",
      "Signal_short\n",
      "              BAT    IBY    NRV    KIT    NNZ\n",
      "2003-07-05  False  False  False  False  False\n",
      "2003-07-06  False  False  False  False  False\n",
      "2003-07-07  False  False  False  False   True\n",
      "2003-07-08   True  False   True  False   True\n",
      "2003-07-09  False   True  False  False   True\n",
      "2003-07-10  False  False   True  False  False\n",
      " \n",
      "Convert signals from bools to integers\n",
      "Signal_long\n",
      "            BAT  IBY  NRV  KIT  NNZ\n",
      "2003-07-05    1    0    1    1    1\n",
      "2003-07-06    0    1    0    0    0\n",
      "2003-07-07    1    0    0    0    0\n",
      "2003-07-08    0    0    0    0    0\n",
      "2003-07-09    0    0    1    0    0\n",
      "2003-07-10    1    0    0    1    1\n",
      "Signal_short\n",
      "            BAT  IBY  NRV  KIT  NNZ\n",
      "2003-07-05    0    0    0    0    0\n",
      "2003-07-06    0    0    0    0    0\n",
      "2003-07-07    0    0    0    0    1\n",
      "2003-07-08    1    0    1    0    1\n",
      "2003-07-09    0    1    0    0    1\n",
      "2003-07-10    0    0    1    0    0\n",
      " \n",
      "Set positions\n",
      "pos_long\n",
      "            BAT  IBY  NRV  KIT  NNZ\n",
      "2003-07-05   30    0   30   30   30\n",
      "2003-07-06    0   30    0    0    0\n",
      "2003-07-07   30    0    0    0    0\n",
      "2003-07-08    0    0    0    0    0\n",
      "2003-07-09    0    0   30    0    0\n",
      "2003-07-10   30    0    0   30   30\n",
      "pos_short\n",
      "            BAT  IBY  NRV  KIT  NNZ\n",
      "2003-07-05    0    0    0    0    0\n",
      "2003-07-06    0    0    0    0    0\n",
      "2003-07-07    0    0    0    0  -10\n",
      "2003-07-08  -10    0  -10    0  -10\n",
      "2003-07-09    0  -10    0    0  -10\n",
      "2003-07-10    0    0  -10    0    0\n",
      "pos_total\n",
      "            BAT  IBY  NRV  KIT  NNZ\n",
      "2003-07-05   30    0   30   30   30\n",
      "2003-07-06    0   30    0    0    0\n",
      "2003-07-07   30    0    0    0  -10\n",
      "2003-07-08  -10    0  -10    0  -10\n",
      "2003-07-09    0  -10   30    0  -10\n",
      "2003-07-10   30    0  -10   30   30\n",
      " \n",
      "Returns\n",
      "                   BAT         IBY         NRV         KIT         NNZ\n",
      "2003-07-05 65.40757705 27.55631996 50.59935209 56.27471227 99.98730709\n",
      "2003-07-06 47.82126721 56.81286575 40.75685815 27.46968099 41.44985809\n",
      "2003-07-07 88.20038097 45.57397250 36.59271137 21.36570424  0.69891996\n",
      "2003-07-08 14.67023682 49.55794925 18.93536473 23.16336866  8.07559954\n",
      "2003-07-09 41.49914021  9.75987297 66.08677766 37.92786142 10.79273041\n",
      "2003-07-10 86.26923465 32.12679487 15.62159252 77.19088610 52.73395049\n",
      "                   BAT         IBY         NRV         KIT         NNZ\n",
      "2003-07-05         nan         nan         nan         nan         nan\n",
      "2003-07-06 -0.26887267  1.06170003 -0.19451818 -0.51186457 -0.58544880\n",
      "2003-07-07  0.84437565 -0.19782303 -0.10217046 -0.22220778 -0.98313818\n",
      "2003-07-08 -0.83367150  0.08741781 -0.48253726  0.08413785 10.55439822\n",
      "2003-07-09  1.82879825 -0.80306140  2.49012436  0.63740698  0.33646181\n",
      "2003-07-10  1.07881981  2.29172265 -0.76362000  1.03520270  3.88606205\n",
      " \n",
      "Investment\n",
      "invest_long\n",
      "                   BAT         IBY         NRV         KIT          NNZ\n",
      "2003-07-05         nan         nan         nan         nan          nan\n",
      "2003-07-06 -0.00000000 31.85100096 -0.00000000 -0.00000000  -0.00000000\n",
      "2003-07-07 25.33126962 -0.00000000 -0.00000000 -0.00000000  -0.00000000\n",
      "2003-07-08 -0.00000000  0.00000000 -0.00000000  0.00000000   0.00000000\n",
      "2003-07-09  0.00000000 -0.00000000 74.70373072  0.00000000   0.00000000\n",
      "2003-07-10 32.36459422  0.00000000 -0.00000000 31.05608111 116.58186159\n",
      "invest_short\n",
      "                   BAT         IBY         NRV         KIT           NNZ\n",
      "2003-07-05         nan         nan         nan         nan           nan\n",
      "2003-07-06 -0.00000000  0.00000000 -0.00000000 -0.00000000   -0.00000000\n",
      "2003-07-07  0.00000000 -0.00000000 -0.00000000 -0.00000000    9.83138182\n",
      "2003-07-08  8.33671503  0.00000000  4.82537259  0.00000000 -105.54398224\n",
      "2003-07-09  0.00000000  8.03061404  0.00000000  0.00000000   -3.36461813\n",
      "2003-07-10  0.00000000  0.00000000  7.63620000  0.00000000    0.00000000\n",
      "total_invest\n",
      "                   BAT         IBY         NRV         KIT           NNZ\n",
      "2003-07-05         nan         nan         nan         nan           nan\n",
      "2003-07-06 -0.00000000 31.85100096 -0.00000000 -0.00000000   -0.00000000\n",
      "2003-07-07 25.33126962 -0.00000000 -0.00000000 -0.00000000    9.83138182\n",
      "2003-07-08  8.33671503  0.00000000  4.82537259  0.00000000 -105.54398224\n",
      "2003-07-09  0.00000000  8.03061404 74.70373072  0.00000000   -3.36461813\n",
      "2003-07-10 32.36459422  0.00000000  7.63620000 31.05608111  116.58186159\n",
      "total_invest\n",
      "BAT   66.03257886\n",
      "IBY   39.88161500\n",
      "NRV   87.16530330\n",
      "KIT   31.05608111\n",
      "NNZ   17.50464305\n",
      "dtype: float64\n",
      "portfolio\n",
      "241.640221315\n",
      " \n",
      "Tests Passed\n"
     ]
    }
   ],
   "source": [
    "import project_tests\n",
    "\n",
    "\n",
    "def generate_positions(prices):\n",
    "    \"\"\"\n",
    "    Generate the following signals:\n",
    "     - Long 30 share of stock when the price is above 50 dollars\n",
    "     - Short 10 shares when it's below 20 dollars\n",
    "    \n",
    "    Parameters\n",
    "    ----------\n",
    "    prices : DataFrame\n",
    "        Prices for each ticker and date\n",
    "    \n",
    "    Returns\n",
    "    -------\n",
    "    final_positions : DataFrame\n",
    "        Final positions for each ticker and date\n",
    "    \"\"\"\n",
    "    # TODO: Implement Function\n",
    "    #Set signals\n",
    "    print('Set signals')\n",
    "    signal_long = prices > 50\n",
    "    signal_short = prices < 20\n",
    "    print('Signal_long')\n",
    "    print(signal_long)\n",
    "    print('Signal_short')\n",
    "    print(signal_short)\n",
    "    print(' ')\n",
    "    \n",
    "    #Convert signals from bools to integers\n",
    "    print('Convert signals from bools to integers')\n",
    "    signal_long = signal_long.astype(np.int64)\n",
    "    signal_short = signal_short.astype(np.int64)\n",
    "    print('Signal_long')\n",
    "    print(signal_long)\n",
    "    print('Signal_short')\n",
    "    print(signal_short)\n",
    "    print(' ')\n",
    "    \n",
    "    #Set positions\n",
    "    print('Set positions')\n",
    "    pos_long = signal_long*30\n",
    "    pos_short = -signal_short*10\n",
    "    total_pos = pos_long + pos_short\n",
    "    print('pos_long')\n",
    "    print(pos_long)\n",
    "    print('pos_short')\n",
    "    print(pos_short)\n",
    "    print('pos_total')\n",
    "    print(total_pos)\n",
    "    print(' ')\n",
    "    \n",
    "    #Return\n",
    "    returns = (prices - prices.shift(1))/prices.shift(1)\n",
    "    print('Returns')\n",
    "    print(prices)\n",
    "    print(returns)\n",
    "    print(' ')\n",
    "    \n",
    "    #Investment\n",
    "    print('Investment')\n",
    "    invest_long = signal_long*30*returns\n",
    "    invest_short = -signal_short*10*returns\n",
    "    total_invest = invest_long + invest_short\n",
    "    print('invest_long')\n",
    "    print(invest_long)\n",
    "    print('invest_short')\n",
    "    print(invest_short)\n",
    "    print('total_invest')\n",
    "    print(total_invest)\n",
    "    print('total_invest')\n",
    "    print(total_invest.sum(axis=0))\n",
    "    print('portfolio')\n",
    "    print(total_invest.sum(axis=0).sum(axis=0))\n",
    "    print(' ')\n",
    "    \n",
    "    \n",
    "    return total_pos\n",
    "\n",
    "\n",
    "project_tests.test_generate_positions(generate_positions)"
   ]
  },
  {
   "cell_type": "markdown",
   "metadata": {},
   "source": [
    "## Quiz Solution\n",
    "If you're having trouble, you can check out the quiz solution [here](dtype_solution.ipynb)."
   ]
  }
 ],
 "metadata": {
  "kernelspec": {
   "display_name": "Python 3",
   "language": "python",
   "name": "python3"
  },
  "language_info": {
   "codemirror_mode": {
    "name": "ipython",
    "version": 3
   },
   "file_extension": ".py",
   "mimetype": "text/x-python",
   "name": "python",
   "nbconvert_exporter": "python",
   "pygments_lexer": "ipython3",
   "version": "3.6.8"
  }
 },
 "nbformat": 4,
 "nbformat_minor": 2
}
